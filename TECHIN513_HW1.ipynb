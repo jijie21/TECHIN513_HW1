{
  "cells": [
    {
      "cell_type": "markdown",
      "metadata": {
        "id": "i1Pzyt6UMEBe"
      },
      "source": [
        "## TECHIN 513 HW1 – Modifying Signals\n",
        "\n",
        "Jackie(Jie) Ji"
      ]
    },
    {
      "cell_type": "markdown",
      "metadata": {
        "id": "I7BSBvphMEBi"
      },
      "source": [
        "## Summary\n",
        "\n",
        "In this lab, you will work through a series of exercises to introduce you to working with audio signals and explore the impact of different amplitude and time operations on signals.  This is a two-week hw.  You should plan on completing the first 2 assignments in the first week."
      ]
    },
    {
      "cell_type": "markdown",
      "metadata": {
        "id": "hzorGZexMEBj"
      },
      "source": [
        "## HW 1 turn in checklist\n",
        "\n",
        "•\tyour Jupyter or Colab notbooks (uploaded as .pdf with your outputs).\n",
        "\n",
        "Note: You can work together but you need to submit your own work. do not copy paste from each other\n"
      ]
    },
    {
      "cell_type": "markdown",
      "metadata": {
        "id": "P5L06vQBMEBk"
      },
      "source": [
        "## Assignment 1 -- Working with sound files"
      ]
    },
    {
      "cell_type": "code",
      "execution_count": 17,
      "metadata": {},
      "outputs": [
        {
          "name": "stdout",
          "output_type": "stream",
          "text": [
            "Collecting scipy\n",
            "  Obtaining dependency information for scipy from https://files.pythonhosted.org/packages/0d/4a/b2b2cae0c5dfd46361245a67102886ed7188805bdf7044e36fe838bbcf26/scipy-1.12.0-cp312-cp312-macosx_10_9_x86_64.whl.metadata\n",
            "  Downloading scipy-1.12.0-cp312-cp312-macosx_10_9_x86_64.whl.metadata (60 kB)\n",
            "\u001b[2K     \u001b[90m━━━━━━━━━━━━━━━━━━━━━━━━━━━━━━━━━━━━━━━\u001b[0m \u001b[32m60.4/60.4 kB\u001b[0m \u001b[31m332.7 kB/s\u001b[0m eta \u001b[36m0:00:00\u001b[0ma \u001b[36m0:00:01\u001b[0m\n",
            "\u001b[?25hCollecting numpy\n",
            "  Obtaining dependency information for numpy from https://files.pythonhosted.org/packages/6d/66/5ea5b8ef7cb3f72ecd6c905abc2331f999bf7e9de247f9db8cc9642f0eda/numpy-1.26.3-cp312-cp312-macosx_10_9_x86_64.whl.metadata\n",
            "  Downloading numpy-1.26.3-cp312-cp312-macosx_10_9_x86_64.whl.metadata (61 kB)\n",
            "\u001b[2K     \u001b[90m━━━━━━━━━━━━━━━━━━━━━━━━━━━━━━━━━━━━━━━━\u001b[0m \u001b[32m61.2/61.2 kB\u001b[0m \u001b[31m1.3 MB/s\u001b[0m eta \u001b[36m0:00:00\u001b[0ma \u001b[36m0:00:01\u001b[0m\n",
            "\u001b[?25hDownloading scipy-1.12.0-cp312-cp312-macosx_10_9_x86_64.whl (38.9 MB)\n",
            "\u001b[2K   \u001b[90m━━━━━━━━━━━━━━━━━━━━━━━━━━━━━━━━━━━━━━━━\u001b[0m \u001b[32m38.9/38.9 MB\u001b[0m \u001b[31m18.2 MB/s\u001b[0m eta \u001b[36m0:00:00\u001b[0m00:01\u001b[0m00:01\u001b[0m\n",
            "\u001b[?25hDownloading numpy-1.26.3-cp312-cp312-macosx_10_9_x86_64.whl (20.3 MB)\n",
            "\u001b[2K   \u001b[90m━━━━━━━━━━━━━━━━━━━━━━━━━━━━━━━━━━━━━━━━\u001b[0m \u001b[32m20.3/20.3 MB\u001b[0m \u001b[31m19.2 MB/s\u001b[0m eta \u001b[36m0:00:00\u001b[0m00:01\u001b[0m00:01\u001b[0m\n",
            "\u001b[?25hInstalling collected packages: numpy, scipy\n",
            "Successfully installed numpy-1.26.3 scipy-1.12.0\n",
            "\n",
            "\u001b[1m[\u001b[0m\u001b[34;49mnotice\u001b[0m\u001b[1;39;49m]\u001b[0m\u001b[39;49m A new release of pip is available: \u001b[0m\u001b[31;49m23.2.1\u001b[0m\u001b[39;49m -> \u001b[0m\u001b[32;49m23.3.2\u001b[0m\n",
            "\u001b[1m[\u001b[0m\u001b[34;49mnotice\u001b[0m\u001b[1;39;49m]\u001b[0m\u001b[39;49m To update, run: \u001b[0m\u001b[32;49mpip3 install --upgrade pip\u001b[0m\n",
            "Note: you may need to restart the kernel to use updated packages.\n"
          ]
        }
      ],
      "source": [
        "pip install scipy numpy"
      ]
    },
    {
      "cell_type": "code",
      "execution_count": 23,
      "metadata": {},
      "outputs": [
        {
          "name": "stdout",
          "output_type": "stream",
          "text": [
            "Requirement already satisfied: scipy in /Library/Frameworks/Python.framework/Versions/3.12/lib/python3.12/site-packages (1.12.0)\n",
            "Requirement already satisfied: numpy<1.29.0,>=1.22.4 in /Library/Frameworks/Python.framework/Versions/3.12/lib/python3.12/site-packages (from scipy) (1.26.3)\n",
            "\n",
            "\u001b[1m[\u001b[0m\u001b[34;49mnotice\u001b[0m\u001b[1;39;49m]\u001b[0m\u001b[39;49m A new release of pip is available: \u001b[0m\u001b[31;49m23.2.1\u001b[0m\u001b[39;49m -> \u001b[0m\u001b[32;49m23.3.2\u001b[0m\n",
            "\u001b[1m[\u001b[0m\u001b[34;49mnotice\u001b[0m\u001b[1;39;49m]\u001b[0m\u001b[39;49m To update, run: \u001b[0m\u001b[32;49mpip3 install --upgrade pip\u001b[0m\n",
            "Note: you may need to restart the kernel to use updated packages.\n"
          ]
        }
      ],
      "source": [
        "pip install scipy"
      ]
    },
    {
      "cell_type": "code",
      "execution_count": 22,
      "metadata": {},
      "outputs": [
        {
          "name": "stdout",
          "output_type": "stream",
          "text": [
            "Collecting simpleaudio\n",
            "  Downloading simpleaudio-1.0.4.tar.gz (2.0 MB)\n",
            "\u001b[2K     \u001b[90m━━━━━━━━━━━━━━━━━━━━━━━━━━━━━━━━━━━━━━━━\u001b[0m \u001b[32m2.0/2.0 MB\u001b[0m \u001b[31m4.0 MB/s\u001b[0m eta \u001b[36m0:00:00\u001b[0ma \u001b[36m0:00:01\u001b[0m\n",
            "\u001b[?25h  Installing build dependencies ... \u001b[?25ldone\n",
            "\u001b[?25h  Getting requirements to build wheel ... \u001b[?25ldone\n",
            "\u001b[?25h  Preparing metadata (pyproject.toml) ... \u001b[?25ldone\n",
            "\u001b[?25hBuilding wheels for collected packages: simpleaudio\n",
            "  Building wheel for simpleaudio (pyproject.toml) ... \u001b[?25ldone\n",
            "\u001b[?25h  Created wheel for simpleaudio: filename=simpleaudio-1.0.4-cp312-cp312-macosx_10_9_universal2.whl size=2042342 sha256=014118f86dce2ffdc238f0c700dcadebd0a26aa3fceeb8c649a1894e45f6148b\n",
            "  Stored in directory: /Users/jieji/Library/Caches/pip/wheels/1d/ad/93/be934a93f1ba8922256840f1cf0e59f8a21e2539985616b64f\n",
            "Successfully built simpleaudio\n",
            "Installing collected packages: simpleaudio\n",
            "Successfully installed simpleaudio-1.0.4\n",
            "\n",
            "\u001b[1m[\u001b[0m\u001b[34;49mnotice\u001b[0m\u001b[1;39;49m]\u001b[0m\u001b[39;49m A new release of pip is available: \u001b[0m\u001b[31;49m23.2.1\u001b[0m\u001b[39;49m -> \u001b[0m\u001b[32;49m23.3.2\u001b[0m\n",
            "\u001b[1m[\u001b[0m\u001b[34;49mnotice\u001b[0m\u001b[1;39;49m]\u001b[0m\u001b[39;49m To update, run: \u001b[0m\u001b[32;49mpip3 install --upgrade pip\u001b[0m\n",
            "Note: you may need to restart the kernel to use updated packages.\n"
          ]
        }
      ],
      "source": [
        "pip install simpleaudio"
      ]
    },
    {
      "cell_type": "code",
      "execution_count": 27,
      "metadata": {
        "colab": {
          "base_uri": "https://localhost:8080/"
        },
        "id": "d6OifVTqMEBk",
        "outputId": "7a1ef95c-06e2-44ac-d0af-e16d422c2a09"
      },
      "outputs": [
        {
          "name": "stdout",
          "output_type": "stream",
          "text": [
            "Sampling Rate: 32000 Hz\n",
            "Shape of x1: (50313,)\n",
            "Number of Channels: 1\n",
            "Length of Audio in Seconds: 1.57228125\n"
          ]
        }
      ],
      "source": [
        "# Assignment 1 - Time Scaling Function\n",
        "\n",
        "# Part A\n",
        "\n",
        "import scipy.io.wavfile as wav\n",
        "import scipy.signal as signal\n",
        "import numpy as np\n",
        "\n",
        "\n",
        "# Assuming 'path_to_your_file.wav' is the path to your WAV file\n",
        "file_path = 'train32.wav'\n",
        "\n",
        "# Read the audio file\n",
        "fs1, x1 = wav.read('train32.wav')\n",
        "\n",
        "# Print the sampling rate\n",
        "print(\"Sampling Rate:\", fs1, \"Hz\")\n",
        "\n",
        "# Print the shape of x1\n",
        "print(\"Shape of x1:\", x1.shape)\n",
        "\n",
        "# If you want to determine the number of channels and length in seconds:\n",
        "num_channels = x1.shape[1] if len(x1.shape) > 1 else 1\n",
        "print(\"Number of Channels:\", num_channels)\n",
        "\n",
        "length_seconds = len(x1) / fs1\n",
        "print(\"Length of Audio in Seconds:\", length_seconds)\n",
        "\n"
      ]
    },
    {
      "cell_type": "code",
      "execution_count": 28,
      "metadata": {
        "id": "Qwo8ceLIMEBl"
      },
      "outputs": [],
      "source": [
        "# Assignment 1 - Playing and Plotting Time Scaled Audio Files\n",
        "\n",
        "# Part B\n",
        "import scipy.io.wavfile as wav\n",
        "import scipy.signal\n",
        "import numpy as np\n",
        "\n",
        "# Load the original WAV file\n",
        "file_path = 'train32.wav'  # Replace with your file path\n",
        "fs1, x1 = wav.read('train32.wav')\n",
        "\n",
        "# Define new sampling rates\n",
        "fs2 = int(fs1 / 2)  # 16 kHz\n",
        "fs3 = int(1.5 * fs1) # Ensure it's an integer\n",
        "\n",
        "# Function to resample and write to a new WAV file\n",
        "def resample_and_write(original_data, original_fs, new_fs, output_filename):\n",
        "    # Calculate new number of samples\n",
        "    num_samples = int(len(original_data) * float(new_fs) / original_fs)\n",
        "\n",
        "    # Resample the audio\n",
        "    resampled_data = scipy.signal.resample(original_data, num_samples)\n",
        "\n",
        "    # Ensure data type is int16 (common for WAV files)\n",
        "    resampled_data = np.asarray(resampled_data, dtype=np.int16)\n",
        "\n",
        "    # Write to a new WAV file\n",
        "    wav.write(output_filename, new_fs, resampled_data)\n",
        "\n",
        "# Resample and save the files\n",
        "resample_and_write(x1, fs1, fs2, 'resampled_16kHz.wav')\n",
        "resample_and_write(x1, fs1, fs3, 'resampled_1.5xfs1.wav')\n"
      ]
    },
    {
      "cell_type": "code",
      "execution_count": 4,
      "metadata": {
        "colab": {
          "base_uri": "https://localhost:8080/"
        },
        "id": "nLw0cVuRODGe",
        "outputId": "07122cd5-cfb0-42b2-fb5d-02f924386c03"
      },
      "outputs": [
        {
          "name": "stdout",
          "output_type": "stream",
          "text": [
            "Playing train32.wav\n"
          ]
        },
        {
          "ename": "",
          "evalue": "",
          "output_type": "error",
          "traceback": [
            "\u001b[1;31mThe Kernel crashed while executing code in the the current cell or a previous cell. Please review the code in the cell(s) to identify a possible cause of the failure. Click <a href='https://aka.ms/vscodeJupyterKernelCrash'>here</a> for more info. View Jupyter <a href='command:jupyter.viewOutput'>log</a> for further details."
          ]
        }
      ],
      "source": [
        "# Part C\n",
        "\n",
        "import simpleaudio as sa\n",
        "import scipy.io.wavfile as wav\n",
        "\n",
        "# Paths to the train sound files\n",
        "original_file = 'train32.wav'\n",
        "resampled_16kHz_file = 'resampled_16kHz.wav'\n",
        "resampled_1_5xfs1_file = 'resampled_1.5xfs1.wav'\n",
        "\n",
        "\n",
        "def play_audio(file_path):\n",
        "    # Read the WAV file\n",
        "    fs, audio_data = wav.read('train32.wav')\n",
        "\n",
        "    audio_data = audio_data.astype(np.int16)\n",
        "\n",
        "    # Determine the number of channels based on the shape of the audio data\n",
        "    num_channels = 1 if len(audio_data.shape) == 1 else audio_data.shape[1]\n",
        "\n",
        "\n",
        "    # Play the audio\n",
        "    try:\n",
        "      wave_obj = sa.WaveObject(audio_data, num_channels)\n",
        "      play_obj = wave_obj.play()\n",
        "      play_obj.wait_done()\n",
        "    except Exception as e:\n",
        "      print(f\"Error playing\")\n",
        "      return None\n",
        "\n",
        "# Paths to the files\n",
        "original_file = 'train32.wav'\n",
        "resampled_16kHz_file = 'resampled_16kHz.wav'\n",
        "resampled_1_5xfs1_file = 'resampled_1.5xfs1.wav'\n",
        "\n",
        "print(\"Playing train32.wav\")\n",
        "play_audio(original_file)\n",
        "\n",
        "print(\"Playing 16kHz resampled file\")\n",
        "play_audio(resampled_16kHz_file)\n",
        "\n",
        "print(\"Playing 1.5xfs1 resampled file\")\n",
        "play_audio(resampled_1_5xfs1_file)\n"
      ]
    },
    {
      "cell_type": "markdown",
      "metadata": {
        "id": "RpRFOeJ6hpQ4"
      },
      "source": [
        "###  Discussion\n",
        "The wrong sampling frequency can significantly alter the audio's pitch, speed, and quality, resulting in a listening experience that is markedly different from what was intended by the creators of the audio content. When the incorrect sampling frequency is used to play back an audio file, several noticeable changes can occur in the audio's characteristics. The sampling frequency, or sample rate, is a crucial parameter in digital audio that determines how many samples of the audio signal are captured per second."
      ]
    },
    {
      "cell_type": "markdown",
      "metadata": {
        "id": "zZ4rlRG4MEBm"
      },
      "source": [
        "## Assignment 2 -- Amplitude Operations on Signals"
      ]
    },
    {
      "cell_type": "code",
      "execution_count": 2,
      "metadata": {
        "id": "GMVCiB8jMEBm"
      },
      "outputs": [],
      "source": [
        "# Part A\n",
        "import numpy as np\n",
        "import scipy.io.wavfile as wav\n",
        "\n",
        "# Read your original audio file\n",
        "file_path = 'train32.wav'  # Replace with your file path\n",
        "fs1, x1 = wav.read(file_path)\n",
        "\n",
        "# Calculate n0, the number of samples up to t=0.5 seconds\n",
        "n0 = int(fs1 * 0.5)\n",
        "\n",
        "# Create s1\n",
        "s1 = np.concatenate((np.ones(n0), 0.2 * np.ones(len(x1) - n0)))\n",
        "\n",
        "# Multiply x1 with s1 to create v1\n",
        "# Adjust the shape of s1 to match x1 in case of stereo audio\n",
        "if len(x1.shape) > 1:\n",
        "    s1 = s1[:, np.newaxis]\n",
        "\n",
        "v1 = x1 * s1\n",
        "\n",
        "# Save the new signal to a wav file\n",
        "output_file = 'modified_signal.wav'\n",
        "wav.write(output_file, fs1, v1.astype(np.int16))  # Converting to int16 for WAV format\n"
      ]
    },
    {
      "cell_type": "code",
      "execution_count": 3,
      "metadata": {
        "id": "CUjCqx-zMEBn"
      },
      "outputs": [],
      "source": [
        "# Part B\n",
        "import numpy as np\n",
        "import scipy.io.wavfile as wav\n",
        "\n",
        "# Assuming you have already read your original audio file and have fs1 and x1\n",
        "# fs1, x1 = wav.read('path_to_your_audio_file.wav')\n",
        "\n",
        "# Create r1, a decaying ramp signal\n",
        "r1 = np.linspace(1, 0, len(x1))\n",
        "\n",
        "# Multiply x1 with r1 to create v2\n",
        "v2 = x1 * r1[:, np.newaxis] if x1.ndim > 1 else x1 * r1\n",
        "\n",
        "# Save the new signal to a wav file\n",
        "output_file_v2 = 'modified_signal_v2.wav'\n",
        "wav.write(output_file_v2, fs1, v2.astype(np.int16))  # Converting to int16 for WAV format\n",
        "\n"
      ]
    },
    {
      "cell_type": "code",
      "execution_count": 4,
      "metadata": {
        "colab": {
          "base_uri": "https://localhost:8080/"
        },
        "id": "PyhAZAw_qfst",
        "outputId": "be1eda1e-89aa-4165-c041-2171b8597553"
      },
      "outputs": [
        {
          "ename": "",
          "evalue": "",
          "output_type": "error",
          "traceback": [
            "\u001b[1;31mThe Kernel crashed while executing code in the the current cell or a previous cell. Please review the code in the cell(s) to identify a possible cause of the failure. Click <a href='https://aka.ms/vscodeJupyterKernelCrash'>here</a> for more info. View Jupyter <a href='command:jupyter.viewOutput'>log</a> for further details."
          ]
        }
      ],
      "source": [
        "import simpleaudio as sa\n",
        "\n",
        "def play_audio(file_name):\n",
        "  try:\n",
        "    wave_obj = sa.WaveObject.from_wave_file('train32.wav')\n",
        "    play_obj = wave_obj.play()\n",
        "    return play_obj\n",
        "  except Exception as e:\n",
        "    print(f\"Error playing {file_name}: {e}\")\n",
        "    return None\n",
        "\n",
        "# Replace with the actual file paths of your audio files\n",
        "original_file = 'train32.wav'\n",
        "v1_file = 'modified_signal.wav'\n",
        "v2_file = 'modified_signal_v2.wav'\n",
        "\n",
        "# Play the original file\n",
        "play_original = play_audio(original_file)\n",
        "if play_original:\n",
        "    play_original.wait_done()  # Wait for the original file to finish\n",
        "\n",
        "# Play v1 file\n",
        "play_v1 = play_audio(v1_file)\n",
        "if play_v1:\n",
        "    play_v1.wait_done()  # Wait for v1 file to finish\n",
        "\n",
        "# Play v2 file\n",
        "play_v2 = play_audio(v2_file)\n",
        "if play_v2:\n",
        "    play_v2.wait_done()  # Wait for v2 file to finish\n"
      ]
    },
    {
      "cell_type": "markdown",
      "metadata": {
        "id": "pjXQ1FJTMEBn"
      },
      "source": [
        "###  Discussion\n",
        "\n",
        "In examining the effects of two modifications on an audio signal, the first likely alters characteristics such as amplitude or frequency within a specified time range, impacting loudness or pitch, while the second modification applies a different or more intense alteration. For instance, if the first increases amplitude, the second might decrease it or add an effect like reverb. Setting a segment of the signal, s1, to a value of 2 for the [0, 0.5] time range would amplify that part of the signal, increasing its loudness."
      ]
    },
    {
      "cell_type": "markdown",
      "metadata": {
        "id": "sLTSfIRSMEBn"
      },
      "source": [
        "## Assignment 3 -- Time Scaling Audio Signals"
      ]
    },
    {
      "cell_type": "code",
      "execution_count": 1,
      "metadata": {
        "id": "wOXro6zmMEBn"
      },
      "outputs": [],
      "source": [
        "# Part A\n",
        "import numpy as np\n",
        "\n",
        "def timescale(x, fs, a):\n",
        "\n",
        "    n = len(x)\n",
        "    t = np.arange(n) / fs\n",
        "    t_scaled = t / a\n",
        "    x_scaled = np.interp(t_scaled, t, x)\n",
        "    return x_scaled, t_scaled"
      ]
    },
    {
      "cell_type": "code",
      "execution_count": 2,
      "metadata": {
        "colab": {
          "base_uri": "https://localhost:8080/"
        },
        "id": "6j4cloGzRZ76",
        "outputId": "6f205de3-3423-4412-eae7-72b463b15e57"
      },
      "outputs": [
        {
          "data": {
            "text/plain": [
              "(array([ 0.        ,  0.03132416,  0.06264832, ..., -0.09384942,\n",
              "        -0.06264832, -0.03132416]),\n",
              " array([0.00000000e+00, 1.13378685e-05, 2.26757370e-05, ...,\n",
              "        4.99965986e-01, 4.99977324e-01, 4.99988662e-01]))"
            ]
          },
          "execution_count": 2,
          "metadata": {},
          "output_type": "execute_result"
        }
      ],
      "source": [
        "# Part B (a)\n",
        "import numpy as np\n",
        "\n",
        "# Assuming x1 (your original audio signal) and fs (the sampling rate) are already defined\n",
        "# For demonstration, let's create a dummy signal and define a sampling rate\n",
        "fs = 44100  # Standard sampling rate for audio (44.1 kHz)\n",
        "duration = 1  # 1 second duration\n",
        "t_x1 = np.linspace(0, duration, fs * duration, endpoint=False)\n",
        "x1 = np.sin(2 * np.pi * 440 * t_x1)  # Example signal: 440 Hz sine wave\n",
        "\n",
        "def timescale(x, fs, a):\n",
        "    \"\"\"\n",
        "    Scales the time of an audio signal.\n",
        "\n",
        "    Parameters:\n",
        "    x (numpy array): Input audio signal.\n",
        "    fs (int): Sampling rate of the audio signal.\n",
        "    a (float): Time scaling factor.\n",
        "\n",
        "    Returns:\n",
        "    numpy array, numpy array: Scaled audio signal and corresponding time vector.\n",
        "    \"\"\"\n",
        "    n = len(x)\n",
        "    t = np.arange(n) / fs\n",
        "    t_scaled = t / a\n",
        "    x_scaled = np.interp(t_scaled, t, x)\n",
        "    return x_scaled, t_scaled\n",
        "\n",
        "# Create w(t) using a=2\n",
        "w, t_w = timescale(x1, fs, 2)\n",
        "(w, t_w)\n",
        "\n"
      ]
    },
    {
      "cell_type": "code",
      "execution_count": 3,
      "metadata": {
        "colab": {
          "base_uri": "https://localhost:8080/"
        },
        "id": "3JEqJ5HSTnBA",
        "outputId": "2e88ee07-7552-4c99-808a-67e6b98bd47d"
      },
      "outputs": [
        {
          "data": {
            "text/plain": [
              "(array([ 0.        ,  0.12505052,  0.24813785, ..., -0.06264832,\n",
              "        -0.06264832, -0.06264832]),\n",
              " array([0.00000000e+00, 4.53514739e-05, 9.07029478e-05, ...,\n",
              "        1.99986395e+00, 1.99990930e+00, 1.99995465e+00]))"
            ]
          },
          "execution_count": 3,
          "metadata": {},
          "output_type": "execute_result"
        }
      ],
      "source": [
        "# Part B (b)\n",
        "\n",
        "# Create v(t) using a=0.5\n",
        "v, t_v = timescale(x1, fs, 0.5)\n",
        "(v, t_v)\n",
        "\n"
      ]
    },
    {
      "cell_type": "code",
      "execution_count": null,
      "metadata": {
        "id": "r3BboLPlReJz"
      },
      "outputs": [],
      "source": [
        "# Part C"
      ]
    },
    {
      "cell_type": "code",
      "execution_count": null,
      "metadata": {
        "id": "shr2vjSBRkS_"
      },
      "outputs": [],
      "source": [
        "# Part D"
      ]
    },
    {
      "cell_type": "markdown",
      "metadata": {
        "id": "67Hdx23WMEBo"
      },
      "source": [
        "###  Discussion\n",
        "\n",
        "Suppose a student runs the figure command before every call to subplot. When you run your script, what changes do you expect to see? How will the plots change?"
      ]
    },
    {
      "cell_type": "markdown",
      "metadata": {
        "id": "zAqTbm56MEBo"
      },
      "source": [
        "## Assignment 4 -- Time Shift Operations"
      ]
    },
    {
      "cell_type": "code",
      "execution_count": null,
      "metadata": {
        "id": "iCBVCMOGMEBo"
      },
      "outputs": [],
      "source": [
        "# Part A\n",
        "# TODO: Code that solves A\n",
        "\n",
        "# Part B\n",
        "# TODO: Code that solves B\n",
        "\n",
        "# Part C\n",
        "# TODO: Code that solves C"
      ]
    },
    {
      "cell_type": "markdown",
      "metadata": {
        "id": "duo6O8G7MEBo"
      },
      "source": [
        "### Discussion\n",
        "\n",
        "There is a trivial case that you should ideally test for. If the shift is zero, then the output is the original signal. If the shift is an advance bigger than the original signal, then the output will be zero. Comment on whether your current implementation correctly handles these cases and whether there is a better implementation.\n"
      ]
    },
    {
      "cell_type": "markdown",
      "metadata": {
        "id": "173PaBbaWTN6"
      },
      "source": [
        "# Assignment 1: Working with Sound Files\n",
        "### Part A"
      ]
    }
  ],
  "metadata": {
    "colab": {
      "provenance": []
    },
    "kernelspec": {
      "display_name": "Python 3",
      "language": "python",
      "name": "python3"
    },
    "language_info": {
      "codemirror_mode": {
        "name": "ipython",
        "version": 3
      },
      "file_extension": ".py",
      "mimetype": "text/x-python",
      "name": "python",
      "nbconvert_exporter": "python",
      "pygments_lexer": "ipython3",
      "version": "3.12.0"
    }
  },
  "nbformat": 4,
  "nbformat_minor": 0
}
